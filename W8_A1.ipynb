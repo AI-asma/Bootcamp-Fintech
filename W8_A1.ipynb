{
  "cells": [
    {
      "cell_type": "markdown",
      "metadata": {
        "id": "view-in-github",
        "colab_type": "text"
      },
      "source": [
        "<a href=\"https://colab.research.google.com/github/AI-asma/Bootcamp-Fintech/blob/main/W8_A1.ipynb\" target=\"_parent\"><img src=\"https://colab.research.google.com/assets/colab-badge.svg\" alt=\"Open In Colab\"/></a>"
      ]
    },
    {
      "cell_type": "markdown",
      "metadata": {
        "id": "suPmHnzAez8R"
      },
      "source": [
        "# Quantum Stock Picking and Quantum Portfolio Optimization\n"
      ]
    },
    {
      "cell_type": "markdown",
      "metadata": {
        "id": "TQZxtzoWez8X"
      },
      "source": [
        "## Introduction\n",
        "\n",
        "This assignment will shows how we can use mean-variance optimization to pick stocks for a problem for $n$ assets:\n",
        "\n",
        "$$\\begin{aligned}\n",
        "\\min_{x \\in \\{0, 1\\}^n}  q x^T \\Sigma x - \\mu^T x\\\\\n",
        "\\text{subject to: } 1^T x = B\n",
        "\\end{aligned}$$\n",
        "\n",
        "where we use the following notation:\n",
        "\n",
        "- $x \\in \\{0, 1\\}^n$ denotes the vector of binary decision variables, which indicate which assets to pick ($x[i] = 1$) and which not to pick ($x[i] = 0$),\n",
        "- $\\mu \\in \\mathbb{R}^n$ defines the expected returns for the assets,\n",
        "- $\\Sigma \\in \\mathbb{R}^{n \\times n}$ specifies the covariances between the assets,\n",
        "- $q > 0$ controls the risk appetite of the decision maker,\n",
        "- and $B$ denotes the budget, i.e. the number of assets to be selected out of $n$.\n",
        "\n",
        "We assume the following simplifications:\n",
        "- all assets have the same price (normalized to 1),\n",
        "- the full budget $B$ has to be spent, i.e. one has to select exactly $B$ assets.\n",
        "\n",
        "The equality constraint $1^T x = B$ is mapped to a penalty term $(1^T x - B)^2$ which is scaled by a parameter and subtracted from the objective function. \n",
        "The resulting problem can be mapped to a Hamiltonian whose ground state corresponds to  the optimal solution.\n",
        "This notebook shows how to use the Variational Quantum Eigensolver (VQE) to find the optimal solution for a given set of parameters.\n",
        "\n",
        "Experiments on real quantum hardware for this problem are reported for instance in the following paper:\n",
        "<br>\n",
        "[Improving Variational Quantum Optimization using CVaR. Barkoutsos et al. 2019.](https://arxiv.org/abs/1907.04769)\n",
        "\n",
        "Note: We are not using CVaR as a portfolio statistic here, rather as a heuristic in our VQE procedure, curious students are encouraged to read the paper above."
      ]
    },
    {
      "cell_type": "markdown",
      "metadata": {
        "id": "H4hTigKDez8Y"
      },
      "source": [
        "#### To Students: Complete the following sections labeled todo"
      ]
    },
    {
      "cell_type": "code",
      "execution_count": 5,
      "metadata": {
        "ExecuteTime": {
          "end_time": "2020-07-13T20:35:05.710593Z",
          "start_time": "2020-07-13T20:34:57.647535Z"
        },
        "id": "2O24AO9-ez8Z"
      },
      "outputs": [],
      "source": [
        "from qiskit import Aer\n",
        "from qiskit.algorithms import VQE, QAOA, NumPyMinimumEigensolver\n",
        "from qiskit.algorithms.optimizers import COBYLA\n",
        "from qiskit.circuit.library import TwoLocal\n",
        "from qiskit.utils import QuantumInstance\n",
        "from qiskit_finance.applications.optimization import PortfolioOptimization\n",
        "from qiskit_finance.data_providers import RandomDataProvider, YahooDataProvider\n",
        "from qiskit_optimization.algorithms import MinimumEigenOptimizer\n",
        "from qiskit_optimization.applications import OptimizationApplication\n",
        "from qiskit_optimization.converters import QuadraticProgramToQubo\n",
        "from qiskit.utils import algorithm_globals\n",
        "\n",
        "import numpy as np\n",
        "import matplotlib.pyplot as plt\n",
        "import datetime\n",
        "import pandas\n",
        "import pandas as pd\n",
        "\n",
        "def index_to_selection(i, num_assets):\n",
        "    s = \"{0:b}\".format(i).rjust(num_assets)\n",
        "    x = np.array([1 if s[i]=='1' else 0 for i in reversed(range(num_assets))])\n",
        "    return x\n",
        "\n",
        "def print_result(result):\n",
        "    selection = result.x\n",
        "    value = result.fval\n",
        "    print('Optimal: selection {}, value {:.4f}'.format(selection, value))\n",
        "    \n",
        "    eigenstate = result.min_eigen_solver_result.eigenstate\n",
        "    eigenvector = eigenstate if isinstance(eigenstate, np.ndarray) else eigenstate.to_matrix()\n",
        "    probabilities = np.abs(eigenvector)**2\n",
        "    i_sorted = reversed(np.argsort(probabilities))\n",
        "    print('\\n----------------- Full result ---------------------')\n",
        "    print('selection\\tvalue\\t\\tprobability')\n",
        "    print('---------------------------------------------------')\n",
        "    for i in i_sorted:\n",
        "        x = index_to_selection(i, num_assets)\n",
        "        value = QuadraticProgramToQubo().convert(qp).objective.evaluate(x)\n",
        "        #value = portfolio.to_quadratic_program().objective.evaluate(x)\n",
        "        probability = probabilities[i]\n",
        "        print('%10s\\t%.4f\\t\\t%.4f' %(x, value, probability))"
      ]
    },
    {
      "cell_type": "code",
      "execution_count": 6,
      "metadata": {
        "id": "9zDyztKCez8b"
      },
      "outputs": [],
      "source": [
        "#global random seed used throuhgout\n",
        "seed = 123"
      ]
    },
    {
      "cell_type": "code",
      "execution_count": 9,
      "metadata": {
        "ExecuteTime": {
          "end_time": "2020-07-13T20:35:15.224327Z",
          "start_time": "2020-07-13T20:35:15.213892Z"
        },
        "id": "SYPmsfE3ez8c"
      },
      "outputs": [],
      "source": [
        "# Generate expected return and covariance matrix from (random) time-series\n",
        "\n",
        "#Todo pick candidate stocks, 3-8 are recommended, stick to 4 if you're going to submit a real quantum experiment to IBM's cloud:\n",
        "\n",
        "stocks = ['NIO','IDEX','NVDA','GOOGL']\n",
        "\n",
        "# Here are some quantum themed stocks :) \n",
        "# ['IBM','AMD','ACN','NVDA','GOOGL','MSFT','AMZN','MU','BABA']\n",
        "# Feel free to pick any in this list or beyond\n",
        "    \n",
        "num_assets = len(stocks)\n",
        "\n",
        "#IBM has done us a favour and provided a cute data provider they designed.\n",
        "data = YahooDataProvider(tickers=stocks,\n",
        "                 start=pandas.Timestamp(2019,1,1),\n",
        "                 end=pandas.Timestamp.now())\n",
        "data.run()\n",
        "\n",
        "# Here we pull apart the IBM qiskit_finance.data_provider internals to retreive our data and format as a pandas DataFrame\n",
        "df = pandas.DataFrame({data._tickers[tidx]:data._data[tidx] for tidx in range(len(data._tickers))})\n",
        "\n",
        "# Provided by IBM\n",
        "mu = data.get_period_return_mean_vector()\n",
        "sigma = data.get_period_return_covariance_matrix()"
      ]
    },
    {
      "cell_type": "code",
      "execution_count": 10,
      "metadata": {
        "ExecuteTime": {
          "end_time": "2020-07-13T20:35:15.231767Z",
          "start_time": "2020-07-13T20:35:15.226490Z"
        },
        "colab": {
          "base_uri": "https://localhost:8080/"
        },
        "id": "5qUEzWSbez8d",
        "outputId": "f855e897-59b4-47c2-fe2f-a0df3c3f9349"
      },
      "outputs": [
        {
          "output_type": "execute_result",
          "data": {
            "text/plain": [
              "\\ This file has been generated by DOcplex\n",
              "\\ ENCODING=ISO-8859-1\n",
              "\\Problem name: Portfolio optimization\n",
              "\n",
              "Minimize\n",
              " obj: - 0.003861877142 x_0 - 0.003609747175 x_1 - 0.003355948573 x_2\n",
              "      - 0.001510758500 x_3 + [ 0.003433407683 x_0^2 + 0.002080236535 x_0*x_1\n",
              "      + 0.000927275901 x_0*x_2 + 0.000486103797 x_0*x_3 + 0.007991343872 x_1^2\n",
              "      + 0.001100239631 x_1*x_2 + 0.000620443189 x_1*x_3 + 0.000926536133 x_2^2\n",
              "      + 0.000704208091 x_2*x_3 + 0.000347710770 x_3^2 ]/2\n",
              "Subject To\n",
              " c0: x_0 + x_1 + x_2 + x_3 = 2\n",
              "\n",
              "Bounds\n",
              " 0 <= x_0 <= 1\n",
              " 0 <= x_1 <= 1\n",
              " 0 <= x_2 <= 1\n",
              " 0 <= x_3 <= 1\n",
              "\n",
              "Binaries\n",
              " x_0 x_1 x_2 x_3\n",
              "End"
            ]
          },
          "metadata": {},
          "execution_count": 10
        }
      ],
      "source": [
        "q = 0.50                   #  risk appetite \n",
        "budget = num_assets  //2   #  stocks to allocate\n",
        "penalty = num_assets       #  set parameter to scale the budget penalty term\n",
        "bounds = None              #  Allocation percent: None: 100%\n",
        "\n",
        "portfolio = PortfolioOptimization(expected_returns=mu, covariances=sigma, risk_factor=q, budget=budget,bounds=bounds)\n",
        "qp = portfolio.to_quadratic_program()\n",
        "qp"
      ]
    },
    {
      "cell_type": "code",
      "execution_count": null,
      "metadata": {
        "ExecuteTime": {
          "end_time": "2020-07-13T20:35:15.243604Z",
          "start_time": "2020-07-13T20:35:15.233567Z"
        },
        "id": "VmKaZ6Q_ez8d"
      },
      "outputs": [],
      "source": [
        ""
      ]
    },
    {
      "cell_type": "markdown",
      "metadata": {
        "tags": [],
        "id": "GYB2SnTqez8e"
      },
      "source": [
        "## Solution using VQE\n",
        "We can now use the Variational Quantum Eigensolver (VQE) to solve the problem. We will specify the optimizer and variational form to be used.\n",
        "\n",
        "Note: You can switch to different backends by providing the name of backend."
      ]
    },
    {
      "cell_type": "code",
      "execution_count": 11,
      "metadata": {
        "ExecuteTime": {
          "end_time": "2020-07-13T20:35:26.536878Z",
          "start_time": "2020-07-13T20:35:24.379996Z"
        },
        "colab": {
          "base_uri": "https://localhost:8080/"
        },
        "id": "7Klf4iDEez8f",
        "outputId": "e7550379-5d3f-4c64-8e1c-153462e0006c"
      },
      "outputs": [
        {
          "output_type": "stream",
          "name": "stdout",
          "text": [
            "Optimal: selection [1. 0. 1. 0.], value -0.0046\n",
            "\n",
            "----------------- Full result ---------------------\n",
            "selection\tvalue\t\tprobability\n",
            "---------------------------------------------------\n",
            " [1 0 1 0]\t-0.0046\t\t0.4815\n",
            " [0 1 1 0]\t-0.0020\t\t0.3953\n",
            " [1 0 0 1]\t-0.0032\t\t0.0611\n",
            " [0 1 0 1]\t-0.0006\t\t0.0536\n",
            " [1 1 0 0]\t-0.0007\t\t0.0079\n",
            " [0 0 1 1]\t-0.0039\t\t0.0002\n",
            " [1 1 0 1]\t1.0201\t\t0.0001\n",
            " [0 1 0 0]\t1.0220\t\t0.0000\n",
            " [1 0 0 0]\t1.0195\t\t0.0000\n",
            " [0 0 0 1]\t1.0203\t\t0.0000\n",
            " [1 1 1 0]\t1.0190\t\t0.0000\n",
            " [0 0 1 0]\t1.0188\t\t0.0000\n",
            " [0 1 1 1]\t1.0190\t\t0.0000\n",
            " [0 0 0 0]\t4.0866\t\t0.0000\n",
            " [1 0 1 1]\t1.0163\t\t0.0000\n",
            " [1 1 1 1]\t4.0836\t\t0.0000\n"
          ]
        }
      ],
      "source": [
        "algorithm_globals.random_seed = seed+1\n",
        "backend = Aer.get_backend('statevector_simulator')\n",
        "\n",
        "\n",
        "cobyla = COBYLA()\n",
        "cobyla.set_options(maxiter=500)\n",
        "\n",
        "ry = TwoLocal(num_assets, 'ry', 'cz', reps=3, entanglement='full')\n",
        "\n",
        "quantum_instance = QuantumInstance(backend=backend, seed_simulator=seed, seed_transpiler=seed)\n",
        "\n",
        "vqe_mes = VQE(ry, optimizer=cobyla, quantum_instance=quantum_instance)\n",
        "vqe = MinimumEigenOptimizer(vqe_mes)\n",
        "\n",
        "result = vqe.solve(qp)\n",
        "\n",
        "\n",
        "# print(result.fval)\n",
        "print_result(result)"
      ]
    },
    {
      "cell_type": "code",
      "execution_count": 12,
      "metadata": {
        "colab": {
          "base_uri": "https://localhost:8080/"
        },
        "id": "DFSPKrjSez8g",
        "outputId": "1033bba5-a6b3-4e93-d7a0-f2e56be43126"
      },
      "outputs": [
        {
          "output_type": "stream",
          "name": "stdout",
          "text": [
            "Stocks from our Qunatum Stock Picking algorthm selected: ['NIO', 'NVDA']\n"
          ]
        }
      ],
      "source": [
        "selected_stocks = list(np.array(stocks)[result.x.astype('bool')])\n",
        "print(f\"Stocks from our Qunatum Stock Picking algorthm selected: {selected_stocks}\")"
      ]
    },
    {
      "cell_type": "markdown",
      "metadata": {
        "id": "cgfuj_Szez8h"
      },
      "source": [
        "### Student todo, complete an equity curve, CAGR and IR comparison for the portfolio of all the stocks you selected for optimization compared to one which your Quantum Stock picker put together\n",
        "\n",
        "hints:\n",
        "\n",
        "\n",
        "df[selected_stocks] contains a data frame with your stock pick prices.   \n",
        "df is the full list of stocks you started with."
      ]
    },
    {
      "cell_type": "code",
      "execution_count": 13,
      "metadata": {
        "colab": {
          "base_uri": "https://localhost:8080/"
        },
        "id": "jIULMOB6ez8h",
        "outputId": "2a5c7dd9-820d-4598-f393-bcae45512d7c"
      },
      "outputs": [
        {
          "output_type": "stream",
          "name": "stdout",
          "text": [
            "IR selection:                   NIO        NVDA\n",
            "Date                             \n",
            "2019-01-02   6.200000   33.837086\n",
            "2019-01-03   6.050000   31.792749\n",
            "2019-01-04   6.360000   33.829624\n",
            "2019-01-07   6.500000   35.620590\n",
            "2019-01-08   6.400000   34.733803\n",
            "...               ...         ...\n",
            "2021-12-28  29.629999  303.220001\n",
            "2021-12-29  28.250000  300.010010\n",
            "2021-12-30  32.419998  295.859985\n",
            "2021-12-31  31.680000  294.109985\n",
            "2022-01-03  33.470001  301.209991\n",
            "\n",
            "[758 rows x 2 columns]\n",
            "IR all:                   NIO        NVDA\n",
            "Date                             \n",
            "2019-01-02   6.200000   33.837086\n",
            "2019-01-03   6.050000   31.792749\n",
            "2019-01-04   6.360000   33.829624\n",
            "2019-01-07   6.500000   35.620590\n",
            "2019-01-08   6.400000   34.733803\n",
            "...               ...         ...\n",
            "2021-12-28  29.629999  303.220001\n",
            "2021-12-29  28.250000  300.010010\n",
            "2021-12-30  32.419998  295.859985\n",
            "2021-12-31  31.680000  294.109985\n",
            "2022-01-03  33.470001  301.209991\n",
            "\n",
            "[758 rows x 2 columns] \n",
            "\n",
            "CAGR selection:               NIO    NVDA\n",
            "Date                     \n",
            "2019-01-02   6.20   33.84\n",
            "2019-01-03   6.05   31.79\n",
            "2019-01-04   6.36   33.83\n",
            "2019-01-07   6.50   35.62\n",
            "2019-01-08   6.40   34.73\n",
            "...           ...     ...\n",
            "2021-12-28  29.63  303.22\n",
            "2021-12-29  28.25  300.01\n",
            "2021-12-30  32.42  295.86\n",
            "2021-12-31  31.68  294.11\n",
            "2022-01-03  33.47  301.21\n",
            "\n",
            "[758 rows x 2 columns]%\n",
            "CAGR all:               NIO    NVDA\n",
            "Date                     \n",
            "2019-01-02   6.20   33.84\n",
            "2019-01-03   6.05   31.79\n",
            "2019-01-04   6.36   33.83\n",
            "2019-01-07   6.50   35.62\n",
            "2019-01-08   6.40   34.73\n",
            "...           ...     ...\n",
            "2021-12-28  29.63  303.22\n",
            "2021-12-29  28.25  300.01\n",
            "2021-12-30  32.42  295.86\n",
            "2021-12-31  31.68  294.11\n",
            "2022-01-03  33.47  301.21\n",
            "\n",
            "[758 rows x 2 columns]%\n"
          ]
        }
      ],
      "source": [
        "#todo\n",
        "#todo\n",
        "#...\n",
        "#todo\n",
        "df[selected_stocks]\n",
        "df\n",
        "\n",
        "print(f\"IR selection: {df[selected_stocks]}\")\n",
        "print(f\"IR all: {df[selected_stocks]} \\n\")\n",
        "\n",
        "\n",
        "print(f\"CAGR selection: {round(df[selected_stocks],2)}%\")\n",
        "print(f\"CAGR all: {round(df[selected_stocks],2)}%\")\n"
      ]
    },
    {
      "cell_type": "markdown",
      "metadata": {
        "id": "WYL0oIaMez8i"
      },
      "source": [
        "# (Optional) For Advanced Students:\n",
        "\n",
        "## Here we will make some modifications to do portfolio optimization\n",
        "\n",
        "\n",
        "This tutorial shows how to solve the following mean-variance portfolio optimization problem for $n$ assets:\n",
        "\n",
        "$$\\begin{aligned}\n",
        "\\min_{x \\in \\{j ... k\\}^n}  q x^T \\Sigma x - \\mu^T x\\\\\n",
        "\\text{subject to: } 1^T x = B\n",
        "\\end{aligned}$$\n",
        "\n",
        "where we use the following notation:\n",
        "\n",
        "- $x \\in \\{-j, +k\\}^n$ denotes the vector of weight allocation variables, which indicate the relative allocation to assign. \n",
        "- $\\mu \\in \\mathbb{R}^n$ defines the expected returns for the assets,\n",
        "- $\\Sigma \\in \\mathbb{R}^{n \\times n}$ specifies the covariances between the assets,\n",
        "- $q > 0$ controls the risk appetite of the decision maker,\n",
        "- and $B$ denotes the budget, i.e. the number of assets to be selected out of $n$.\n",
        "\n",
        "We assume the following simplifications:\n",
        "- all assets have the same price (normalized to 1),\n",
        "- the full budget $B$ has to be spent, i.e. one has to allocate exactly $B$ relative amounts of asset.\n",
        "\n",
        "The equality constraint $1^T x = B$ is mapped to a penalty term $(1^T x - B)^2$ which is scaled by a parameter and subtracted from the objective function. \n",
        "The resulting problem can be mapped to a Hamiltonian whose ground state corresponds to  the optimal solution.\n",
        "This rest of this notebook shows how to use the Variational Quantum Eigensolver (VQE) an optimal solution for a given set of parameters."
      ]
    },
    {
      "cell_type": "code",
      "execution_count": 15,
      "metadata": {
        "colab": {
          "base_uri": "https://localhost:8080/"
        },
        "id": "YNa8j1cuez8i",
        "outputId": "76bebdf6-96ce-4ad1-f483-b6e8977edbb2"
      },
      "outputs": [
        {
          "output_type": "execute_result",
          "data": {
            "text/plain": [
              "\\ This file has been generated by DOcplex\n",
              "\\ ENCODING=ISO-8859-1\n",
              "\\Problem name: Portfolio optimization\n",
              "\n",
              "Minimize\n",
              " obj: - 0.003861877142 x_0 - 0.003609747175 x_1 - 0.003355948573 x_2\n",
              "      - 0.001510758500 x_3 + [ 0.003433407683 x_0^2 + 0.002080236535 x_0*x_1\n",
              "      + 0.000927275901 x_0*x_2 + 0.000486103797 x_0*x_3 + 0.007991343872 x_1^2\n",
              "      + 0.001100239631 x_1*x_2 + 0.000620443189 x_1*x_3 + 0.000926536133 x_2^2\n",
              "      + 0.000704208091 x_2*x_3 + 0.000347710770 x_3^2 ]/2\n",
              "Subject To\n",
              " c0: x_0 + x_1 + x_2 + x_3 = 4\n",
              "\n",
              "Bounds\n",
              "       x_0 <= 3\n",
              "       x_1 <= 3\n",
              "       x_2 <= 3\n",
              "       x_3 <= 3\n",
              "\n",
              "Generals\n",
              " x_0 x_1 x_2 x_3\n",
              "End"
            ]
          },
          "metadata": {},
          "execution_count": 15
        }
      ],
      "source": [
        "q = 0.50                   #  risk appetite \n",
        "budget = num_assets        #  Units to allocate\n",
        "penalty = num_assets //2   #  set parameter to scale the budget penalty term\n",
        "bounds = [(0,3)]*num_assets  #  Allocation units, can be negative or positive\n",
        "\n",
        "\n",
        "portfolio = PortfolioOptimization(expected_returns=mu, covariances=sigma, risk_factor=q, budget=budget,bounds=bounds)\n",
        "qp = portfolio.to_quadratic_program()\n",
        "qp"
      ]
    },
    {
      "cell_type": "code",
      "execution_count": 16,
      "metadata": {
        "colab": {
          "base_uri": "https://localhost:8080/"
        },
        "id": "WvPcvZRAez8i",
        "outputId": "464075f3-7a42-4f6e-916b-84fc1d41050e"
      },
      "outputs": [
        {
          "output_type": "stream",
          "name": "stderr",
          "text": [
            "/usr/local/lib/python3.7/dist-packages/qiskit_optimization/algorithms/optimization_algorithm.py:138: UserWarning: The sum of probability of samples is not close to 1: f{sum_prob}\n",
            "  warn(\"The sum of probability of samples is not close to 1: f{sum_prob}\")\n"
          ]
        }
      ],
      "source": [
        "algorithm_globals.random_seed = seed+1\n",
        "backend = Aer.get_backend('statevector_simulator')\n",
        "\n",
        "\n",
        "cobyla = COBYLA()\n",
        "cobyla.set_options(maxiter=500)\n",
        "\n",
        "ry = TwoLocal(num_assets, 'ry', 'cz', reps=3, entanglement='full')\n",
        "\n",
        "quantum_instance = QuantumInstance(backend=backend, seed_simulator=seed, seed_transpiler=seed)\n",
        "\n",
        "vqe_mes = VQE(ry, optimizer=cobyla, quantum_instance=quantum_instance)\n",
        "vqe = MinimumEigenOptimizer(vqe_mes)\n",
        "\n",
        "result = vqe.solve(qp)"
      ]
    },
    {
      "cell_type": "code",
      "execution_count": 17,
      "metadata": {
        "id": "riUYrO3nez8j"
      },
      "outputs": [],
      "source": [
        "allocations = pandas.DataFrame({f\"{stocks[tidx]}\":result.x[tidx] for tidx in range(len(stocks))},index=['Allocation'])"
      ]
    },
    {
      "cell_type": "markdown",
      "metadata": {
        "id": "N6nInCDmez8j"
      },
      "source": [
        "### Student todo, complete an equity curve, CAGR and IR comparison for the a portfolio of all the stocks you selected for optimization compared to one which your Quantum Portfolio Optimzer put together.\n",
        "\n",
        "hints:\n",
        "\n",
        "\n",
        "The variable allocations contains a DataFrame with your relative stock allocations.   \n",
        "df is the full list of stocks you started with."
      ]
    },
    {
      "cell_type": "code",
      "execution_count": 18,
      "metadata": {
        "colab": {
          "base_uri": "https://localhost:8080/",
          "height": 346
        },
        "id": "Ddx4JbPRez8j",
        "outputId": "7383d8ff-b63b-47bd-b944-3cc0fabb14b6"
      },
      "outputs": [
        {
          "output_type": "stream",
          "name": "stdout",
          "text": [
            "IR Selection: 1.575770560272465\n",
            "IR All: 1.4354760615438193 \n",
            "\n",
            "CAGR Selection: 202.57%\n"
          ]
        },
        {
          "output_type": "display_data",
          "data": {
            "image/png": "[encoded data removed]",
            "text/plain": [
              "<Figure size 432x288 with 1 Axes>"
            ]
          },
          "metadata": {
            "needs_background": "light"
          }
        }
      ],
      "source": [
        "sel = df[selected_stocks]\n",
        "all = df\n",
        "returns = sel.pct_change().dropna().mean(axis=1)\n",
        "returns_all = all.pct_change().dropna().mean(axis=1)\n",
        "m_all = 10000 * (returns_all+1).cumprod()\n",
        "m_sel = 10000 * (returns+1).cumprod()\n",
        "m_sel.plot()\n",
        "m_all.plot()\n",
        "plt.legend(['Selection','all'])\n",
        "print(f\"IR Selection: {(returns.mean()/returns.std())*np.sqrt(252)}\")\n",
        "print(f\"IR All: {(returns_all.mean()/returns_all.std())*np.sqrt(252)} \\n\")\n",
        "print(f\"CAGR Selection: {round(100*((m_sel.iloc[-1]/10000)-1)**(1/(len(df)/252)),2)}%\")"
      ]
    },
    {
      "cell_type": "code",
      "execution_count": null,
      "metadata": {
        "id": "FlqJ7bzoez8k"
      },
      "outputs": [],
      "source": [
        ""
      ]
    }
  ],
  "metadata": {
    "celltoolbar": "Tags",
    "kernelspec": {
      "display_name": "Python 3",
      "language": "python",
      "name": "python3"
    },
    "language_info": {
      "codemirror_mode": {
        "name": "ipython",
        "version": 3
      },
      "file_extension": ".py",
      "mimetype": "text/x-python",
      "name": "python",
      "nbconvert_exporter": "python",
      "pygments_lexer": "ipython3",
      "version": "3.8.8"
    },
    "varInspector": {
      "cols": {
        "lenName": 16,
        "lenType": 16,
        "lenVar": 40
      },
      "kernels_config": {
        "python": {
          "delete_cmd_postfix": "",
          "delete_cmd_prefix": "del ",
          "library": "var_list.py",
          "varRefreshCmd": "print(var_dic_list())"
        },
        "r": {
          "delete_cmd_postfix": ") ",
          "delete_cmd_prefix": "rm(",
          "library": "var_list.r",
          "varRefreshCmd": "cat(var_dic_list()) "
        }
      },
      "types_to_exclude": [
        "module",
        "function",
        "builtin_function_or_method",
        "instance",
        "_Feature"
      ],
      "window_display": false
    },
    "colab": {
      "name": "W8_A1_Template.ipynb",
      "provenance": [],
      "include_colab_link": true
    }
  },
  "nbformat": 4,
  "nbformat_minor": 0
}