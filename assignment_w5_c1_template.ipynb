{
  "nbformat": 4,
  "nbformat_minor": 0,
  "metadata": {
    "kernelspec": {
      "display_name": "Python 3",
      "language": "python",
      "name": "python3"
    },
    "language_info": {
      "codemirror_mode": {
        "name": "ipython",
        "version": 3
      },
      "file_extension": ".py",
      "mimetype": "text/x-python",
      "name": "python",
      "nbconvert_exporter": "python",
      "pygments_lexer": "ipython3",
      "version": "3.8.5"
    },
    "colab": {
      "name": "assignment_w5_c1_template.ipynb",
      "provenance": [],
      "collapsed_sections": [],
      "include_colab_link": true
    }
  },
  "cells": [
    {
      "cell_type": "markdown",
      "metadata": {
        "id": "view-in-github",
        "colab_type": "text"
      },
      "source": [
        "<a href=\"https://colab.research.google.com/github/AI-asma/Bootcamp-Fintech/blob/main/assignment_w5_c1_template.ipynb\" target=\"_parent\"><img src=\"https://colab.research.google.com/assets/colab-badge.svg\" alt=\"Open In Colab\"/></a>"
      ]
    },
    {
      "cell_type": "markdown",
      "metadata": {
        "id": "l-hISyErjQmn"
      },
      "source": [
        "Week 5, Assignment C1:\n",
        "\n",
        "Logistic Regression with Yahoo! Finance API in Python\n",
        "\n",
        "In this notebook, we will study Logistic Regression using the Yahoo! Finance API in Python.\n",
        "\n",
        "Please complete the lines bellow where you see \"#TODO\"."
      ]
    },
    {
      "cell_type": "code",
      "metadata": {
        "id": "NLfySRKHjQmp"
      },
      "source": [
        "#Objective 1.\n",
        "#Use this cell to import the Numpy (as np), Pandas (as pd), and YFinance (as yf) packages.\n",
        "\n",
        "import numpy as np\n",
        "import pandas as pd\n",
        "import yfinance as yf \n",
        "import pandas_datareader as pdr\n"
      ],
      "execution_count": 3,
      "outputs": []
    },
    {
      "cell_type": "code",
      "metadata": {
        "id": "WK9E0JgskYZZ"
      },
      "source": [
        "#pip install yfinance"
      ],
      "execution_count": 4,
      "outputs": []
    },
    {
      "cell_type": "code",
      "metadata": {
        "id": "f5QbeqdJkOGB"
      },
      "source": [
        "#Our work will also require some components of the Sklearn and Pandas_Datareader packages as imported below:\n",
        "\n",
        "from sklearn.linear_model import LogisticRegression\n",
        "from sklearn import metrics\n",
        "from sklearn.model_selection import cross_val_score\n",
        "from pandas_datareader import data as pdr\n",
        "yf.pdr_override()"
      ],
      "execution_count": 5,
      "outputs": []
    },
    {
      "cell_type": "code",
      "metadata": {
        "id": "gqe1fbFJjQmr"
      },
      "source": [
        "#Objective 2.\n",
        "#Select a stock symbol for a stock whose historical data is available on the Yahoo! Finance website.  Store the\n",
        "#string of your chosen symbol to the new variable \"stock_symbol\".\n",
        "\n",
        "stock_symbol = \"NIO\""
      ],
      "execution_count": 6,
      "outputs": []
    },
    {
      "cell_type": "code",
      "metadata": {
        "colab": {
          "base_uri": "https://localhost:8080/",
          "height": 464
        },
        "id": "e4vbNawEjQmr",
        "outputId": "2caac6dd-9924-4fd8-d684-b03058bf0256"
      },
      "source": [
        "#Objective 3.\n",
        "#Use the function \"pdr.get_data_yahoo(stock_symbol, start_date, end_date)\" to generate a Pandas dataframe of\n",
        "#historical stock data for your chosen stock.  Retain only the first four columns of the dataframe.  Be sure to \n",
        "#drop any rows containing NaN's, and take a peek at the resulting dataframe to make sure everything looks good.\n",
        "\n",
        "df = pdr.get_data_yahoo(stock_symbol, \"2016-1-1\", \"2021-1-1\")\n",
        "df = df.dropna()\n",
        "df = df[[\"Open\", \"High\", \"Low\", \"Close\"]]\n",
        "df"
      ],
      "execution_count": 7,
      "outputs": [
        {
          "output_type": "stream",
          "name": "stdout",
          "text": [
            "\r[*********************100%***********************]  1 of 1 completed\n"
          ]
        },
        {
          "output_type": "execute_result",
          "data": {
            "text/html": [
              "<div>\n",
              "<style scoped>\n",
              "    .dataframe tbody tr th:only-of-type {\n",
              "        vertical-align: middle;\n",
              "    }\n",
              "\n",
              "    .dataframe tbody tr th {\n",
              "        vertical-align: top;\n",
              "    }\n",
              "\n",
              "    .dataframe thead th {\n",
              "        text-align: right;\n",
              "    }\n",
              "</style>\n",
              "<table border=\"1\" class=\"dataframe\">\n",
              "  <thead>\n",
              "    <tr style=\"text-align: right;\">\n",
              "      <th></th>\n",
              "      <th>Open</th>\n",
              "      <th>High</th>\n",
              "      <th>Low</th>\n",
              "      <th>Close</th>\n",
              "    </tr>\n",
              "    <tr>\n",
              "      <th>Date</th>\n",
              "      <th></th>\n",
              "      <th></th>\n",
              "      <th></th>\n",
              "      <th></th>\n",
              "    </tr>\n",
              "  </thead>\n",
              "  <tbody>\n",
              "    <tr>\n",
              "      <th>2018-09-12</th>\n",
              "      <td>6.000000</td>\n",
              "      <td>6.930000</td>\n",
              "      <td>5.350000</td>\n",
              "      <td>6.600000</td>\n",
              "    </tr>\n",
              "    <tr>\n",
              "      <th>2018-09-13</th>\n",
              "      <td>6.620000</td>\n",
              "      <td>12.690000</td>\n",
              "      <td>6.520000</td>\n",
              "      <td>11.600000</td>\n",
              "    </tr>\n",
              "    <tr>\n",
              "      <th>2018-09-14</th>\n",
              "      <td>12.660000</td>\n",
              "      <td>13.800000</td>\n",
              "      <td>9.220000</td>\n",
              "      <td>9.900000</td>\n",
              "    </tr>\n",
              "    <tr>\n",
              "      <th>2018-09-17</th>\n",
              "      <td>9.610000</td>\n",
              "      <td>9.750000</td>\n",
              "      <td>8.500000</td>\n",
              "      <td>8.500000</td>\n",
              "    </tr>\n",
              "    <tr>\n",
              "      <th>2018-09-18</th>\n",
              "      <td>8.730000</td>\n",
              "      <td>9.100000</td>\n",
              "      <td>7.670000</td>\n",
              "      <td>7.680000</td>\n",
              "    </tr>\n",
              "    <tr>\n",
              "      <th>...</th>\n",
              "      <td>...</td>\n",
              "      <td>...</td>\n",
              "      <td>...</td>\n",
              "      <td>...</td>\n",
              "    </tr>\n",
              "    <tr>\n",
              "      <th>2020-12-24</th>\n",
              "      <td>46.880001</td>\n",
              "      <td>47.130001</td>\n",
              "      <td>45.349998</td>\n",
              "      <td>45.770000</td>\n",
              "    </tr>\n",
              "    <tr>\n",
              "      <th>2020-12-28</th>\n",
              "      <td>46.669998</td>\n",
              "      <td>46.849998</td>\n",
              "      <td>43.669998</td>\n",
              "      <td>44.060001</td>\n",
              "    </tr>\n",
              "    <tr>\n",
              "      <th>2020-12-29</th>\n",
              "      <td>43.700001</td>\n",
              "      <td>46.279999</td>\n",
              "      <td>42.230000</td>\n",
              "      <td>46.139999</td>\n",
              "    </tr>\n",
              "    <tr>\n",
              "      <th>2020-12-30</th>\n",
              "      <td>46.500000</td>\n",
              "      <td>48.380001</td>\n",
              "      <td>45.720001</td>\n",
              "      <td>48.380001</td>\n",
              "    </tr>\n",
              "    <tr>\n",
              "      <th>2020-12-31</th>\n",
              "      <td>48.459999</td>\n",
              "      <td>50.500000</td>\n",
              "      <td>47.770000</td>\n",
              "      <td>48.740002</td>\n",
              "    </tr>\n",
              "  </tbody>\n",
              "</table>\n",
              "<p>581 rows × 4 columns</p>\n",
              "</div>"
            ],
            "text/plain": [
              "                 Open       High        Low      Close\n",
              "Date                                                  \n",
              "2018-09-12   6.000000   6.930000   5.350000   6.600000\n",
              "2018-09-13   6.620000  12.690000   6.520000  11.600000\n",
              "2018-09-14  12.660000  13.800000   9.220000   9.900000\n",
              "2018-09-17   9.610000   9.750000   8.500000   8.500000\n",
              "2018-09-18   8.730000   9.100000   7.670000   7.680000\n",
              "...               ...        ...        ...        ...\n",
              "2020-12-24  46.880001  47.130001  45.349998  45.770000\n",
              "2020-12-28  46.669998  46.849998  43.669998  44.060001\n",
              "2020-12-29  43.700001  46.279999  42.230000  46.139999\n",
              "2020-12-30  46.500000  48.380001  45.720001  48.380001\n",
              "2020-12-31  48.459999  50.500000  47.770000  48.740002\n",
              "\n",
              "[581 rows x 4 columns]"
            ]
          },
          "metadata": {},
          "execution_count": 7
        }
      ]
    },
    {
      "cell_type": "code",
      "metadata": {
        "colab": {
          "base_uri": "https://localhost:8080/",
          "height": 447
        },
        "id": "AdNez9YkjQms",
        "outputId": "44c6147d-c4f6-4139-9361-07fb0344af0e"
      },
      "source": [
        "#Objective 4.\n",
        "#Use the historical data to define some predictor variables.  Add these variables to the dataframe.  Include, at a\n",
        "#minimum, (Predictor.I) the rolling average closing price over the past fifteen (15) days and (Predictor.II) the\n",
        "#change in opening price over the past one (1) day.  Be sure to again drop any rows containing NaN's, and take a\n",
        "#peek at the resulting dataframe to make sure everything looks good.  Store the dataframe as the new variable \"X\".\n",
        "\n",
        "df['Close_15_Rolling'] = df[\"Close\"].rolling(window=15).mean()\n",
        "df['Open_1_Change'] = df[\"Open\"].diff()\n",
        "df = df.dropna()\n",
        "X = df[[\"Close_15_Rolling\", \"Open_1_Change\"]]\n",
        "X"
      ],
      "execution_count": 8,
      "outputs": [
        {
          "output_type": "execute_result",
          "data": {
            "text/html": [
              "<div>\n",
              "<style scoped>\n",
              "    .dataframe tbody tr th:only-of-type {\n",
              "        vertical-align: middle;\n",
              "    }\n",
              "\n",
              "    .dataframe tbody tr th {\n",
              "        vertical-align: top;\n",
              "    }\n",
              "\n",
              "    .dataframe thead th {\n",
              "        text-align: right;\n",
              "    }\n",
              "</style>\n",
              "<table border=\"1\" class=\"dataframe\">\n",
              "  <thead>\n",
              "    <tr style=\"text-align: right;\">\n",
              "      <th></th>\n",
              "      <th>Close_15_Rolling</th>\n",
              "      <th>Open_1_Change</th>\n",
              "    </tr>\n",
              "    <tr>\n",
              "      <th>Date</th>\n",
              "      <th></th>\n",
              "      <th></th>\n",
              "    </tr>\n",
              "  </thead>\n",
              "  <tbody>\n",
              "    <tr>\n",
              "      <th>2018-10-02</th>\n",
              "      <td>7.974667</td>\n",
              "      <td>-0.460000</td>\n",
              "    </tr>\n",
              "    <tr>\n",
              "      <th>2018-10-03</th>\n",
              "      <td>7.954667</td>\n",
              "      <td>-0.480000</td>\n",
              "    </tr>\n",
              "    <tr>\n",
              "      <th>2018-10-04</th>\n",
              "      <td>7.598000</td>\n",
              "      <td>0.070000</td>\n",
              "    </tr>\n",
              "    <tr>\n",
              "      <th>2018-10-05</th>\n",
              "      <td>7.355333</td>\n",
              "      <td>0.010000</td>\n",
              "    </tr>\n",
              "    <tr>\n",
              "      <th>2018-10-08</th>\n",
              "      <td>7.191333</td>\n",
              "      <td>-0.130000</td>\n",
              "    </tr>\n",
              "    <tr>\n",
              "      <th>...</th>\n",
              "      <td>...</td>\n",
              "      <td>...</td>\n",
              "    </tr>\n",
              "    <tr>\n",
              "      <th>2020-12-24</th>\n",
              "      <td>45.140000</td>\n",
              "      <td>-0.599998</td>\n",
              "    </tr>\n",
              "    <tr>\n",
              "      <th>2020-12-28</th>\n",
              "      <td>45.208000</td>\n",
              "      <td>-0.210003</td>\n",
              "    </tr>\n",
              "    <tr>\n",
              "      <th>2020-12-29</th>\n",
              "      <td>45.276667</td>\n",
              "      <td>-2.969997</td>\n",
              "    </tr>\n",
              "    <tr>\n",
              "      <th>2020-12-30</th>\n",
              "      <td>45.398000</td>\n",
              "      <td>2.799999</td>\n",
              "    </tr>\n",
              "    <tr>\n",
              "      <th>2020-12-31</th>\n",
              "      <td>45.713334</td>\n",
              "      <td>1.959999</td>\n",
              "    </tr>\n",
              "  </tbody>\n",
              "</table>\n",
              "<p>567 rows × 2 columns</p>\n",
              "</div>"
            ],
            "text/plain": [
              "            Close_15_Rolling  Open_1_Change\n",
              "Date                                       \n",
              "2018-10-02          7.974667      -0.460000\n",
              "2018-10-03          7.954667      -0.480000\n",
              "2018-10-04          7.598000       0.070000\n",
              "2018-10-05          7.355333       0.010000\n",
              "2018-10-08          7.191333      -0.130000\n",
              "...                      ...            ...\n",
              "2020-12-24         45.140000      -0.599998\n",
              "2020-12-28         45.208000      -0.210003\n",
              "2020-12-29         45.276667      -2.969997\n",
              "2020-12-30         45.398000       2.799999\n",
              "2020-12-31         45.713334       1.959999\n",
              "\n",
              "[567 rows x 2 columns]"
            ]
          },
          "metadata": {},
          "execution_count": 8
        }
      ]
    },
    {
      "cell_type": "code",
      "metadata": {
        "colab": {
          "base_uri": "https://localhost:8080/"
        },
        "id": "GPIxn13ZjQms",
        "outputId": "d433a82b-4fb9-4c1b-8e26-1df1953028dd"
      },
      "source": [
        "#Objective 5.\n",
        "#Define the target or dependent variable to be one (1) if the change in closing price over the past one (1) day is\n",
        "#nonnegative and negative one (-1) if the change in closing price over the past one (1) day is negative.  This\n",
        "#variable's values should be forward-looking (i.e., you should subtract today's price from tomorrow's price rather\n",
        "#than subtracting yesterday's price from today's price).  Store the resulting values as the new variable \"y\".  You\n",
        "#may find the \"np.where(*args)\" function to be useful.  Look it up in Numpy documentation for support.\n",
        "y = np.where(-df[\"Close\"].diff(-1) > 0, 1, -1)\n",
        "y"
      ],
      "execution_count": 9,
      "outputs": [
        {
          "output_type": "execute_result",
          "data": {
            "text/plain": [
              "array([ 1, -1,  1, -1,  1,  1, -1,  1,  1,  1, -1, -1, -1, -1, -1, -1,  1,\n",
              "       -1, -1, -1, -1,  1, -1,  1, -1,  1, -1,  1, -1,  1,  1,  1, -1,  1,\n",
              "       -1,  1, -1, -1,  1,  1, -1, -1, -1, -1,  1, -1,  1,  1,  1,  1, -1,\n",
              "       -1,  1, -1, -1, -1, -1,  1,  1,  1, -1, -1, -1,  1,  1, -1,  1,  1,\n",
              "       -1,  1,  1, -1,  1, -1, -1, -1,  1,  1,  1,  1,  1,  1,  1, -1,  1,\n",
              "        1, -1, -1, -1, -1,  1, -1, -1, -1,  1,  1,  1,  1,  1,  1, -1,  1,\n",
              "       -1,  1, -1, -1, -1, -1, -1,  1, -1, -1,  1,  1, -1, -1, -1, -1, -1,\n",
              "        1,  1,  1,  1,  1, -1,  1,  1, -1, -1, -1, -1, -1, -1, -1,  1,  1,\n",
              "       -1,  1,  1, -1,  1,  1, -1, -1,  1,  1, -1, -1, -1,  1, -1, -1,  1,\n",
              "        1, -1, -1, -1,  1, -1, -1, -1,  1, -1, -1, -1, -1,  1, -1, -1,  1,\n",
              "       -1, -1, -1, -1, -1,  1,  1,  1,  1, -1, -1, -1, -1,  1, -1,  1,  1,\n",
              "        1,  1,  1,  1, -1, -1,  1, -1, -1,  1, -1, -1,  1,  1,  1, -1,  1,\n",
              "       -1, -1,  1, -1, -1, -1,  1,  1,  1, -1, -1,  1, -1, -1,  1,  1,  1,\n",
              "       -1, -1, -1, -1,  1, -1,  1,  1, -1,  1,  1,  1,  1,  1, -1, -1,  1,\n",
              "       -1,  1, -1,  1, -1, -1, -1, -1, -1, -1, -1, -1,  1,  1, -1, -1,  1,\n",
              "       -1, -1,  1, -1,  1, -1, -1,  1,  1, -1, -1,  1, -1, -1, -1,  1,  1,\n",
              "        1,  1,  1, -1,  1, -1, -1,  1, -1, -1,  1, -1,  1,  1,  1, -1,  1,\n",
              "        1,  1, -1,  1, -1,  1, -1, -1, -1,  1, -1,  1,  1,  1,  1,  1, -1,\n",
              "        1, -1, -1, -1, -1,  1,  1, -1,  1, -1, -1,  1,  1,  1,  1,  1,  1,\n",
              "        1,  1,  1, -1,  1, -1, -1,  1,  1, -1, -1,  1,  1, -1, -1, -1,  1,\n",
              "        1,  1, -1, -1,  1,  1,  1, -1, -1,  1, -1, -1, -1, -1, -1, -1, -1,\n",
              "       -1, -1,  1, -1, -1, -1, -1, -1, -1, -1,  1, -1,  1,  1,  1, -1, -1,\n",
              "        1, -1, -1,  1,  1,  1,  1, -1,  1,  1,  1,  1, -1, -1, -1,  1, -1,\n",
              "       -1,  1,  1,  1, -1, -1,  1, -1,  1,  1,  1, -1, -1, -1,  1, -1,  1,\n",
              "        1, -1, -1, -1,  1,  1, -1,  1,  1,  1,  1,  1, -1,  1,  1, -1, -1,\n",
              "        1,  1,  1, -1,  1,  1,  1, -1, -1,  1, -1,  1,  1,  1,  1,  1,  1,\n",
              "       -1,  1,  1, -1,  1, -1, -1, -1,  1,  1, -1, -1, -1, -1,  1,  1, -1,\n",
              "       -1,  1,  1,  1, -1, -1,  1, -1,  1, -1, -1,  1,  1, -1, -1,  1,  1,\n",
              "        1,  1, -1, -1,  1,  1, -1, -1, -1, -1,  1, -1,  1,  1,  1, -1,  1,\n",
              "        1, -1,  1, -1, -1,  1,  1,  1,  1,  1, -1,  1, -1,  1, -1,  1,  1,\n",
              "       -1,  1,  1,  1, -1,  1, -1, -1, -1, -1,  1, -1,  1, -1,  1,  1,  1,\n",
              "        1, -1,  1, -1,  1,  1, -1,  1,  1, -1,  1,  1,  1, -1,  1,  1, -1,\n",
              "       -1,  1, -1, -1,  1,  1, -1,  1, -1, -1,  1,  1,  1,  1,  1, -1, -1,\n",
              "       -1, -1,  1,  1,  1, -1])"
            ]
          },
          "metadata": {},
          "execution_count": 9
        }
      ]
    },
    {
      "cell_type": "code",
      "metadata": {
        "colab": {
          "base_uri": "https://localhost:8080/"
        },
        "id": "F8hxv3u5jQmt",
        "outputId": "dc4d32e1-41a1-426e-8804-11b6f7b42c8c"
      },
      "source": [
        "#Objective 6.\n",
        "#Split the data into training and test sets, putting the first seventy percent (70%) of the data in the training\n",
        "#set.\n",
        "\n",
        "index = int(0.7*len(X))\n",
        "X_train, X_test, y_train, y_test = X[:index], X[index:], y[:index], y[index:]\n",
        "\n",
        "print(X_train.shape, y_train.shape, X_test.shape, y_test.shape)"
      ],
      "execution_count": 10,
      "outputs": [
        {
          "output_type": "stream",
          "name": "stdout",
          "text": [
            "(396, 2) (396,) (171, 2) (171,)\n"
          ]
        }
      ]
    },
    {
      "cell_type": "code",
      "metadata": {
        "id": "ThNHvyTRjQmu"
      },
      "source": [
        "#Objective 7.\n",
        "#Instantiate the Logistic Regression model object, and use its \".fit(*args)\" method to fit the model to the \n",
        "#training data.\n",
        "\n",
        "logistic = LogisticRegression()\n",
        "logistic = logistic.fit(X_train,y_train)"
      ],
      "execution_count": 11,
      "outputs": []
    },
    {
      "cell_type": "code",
      "metadata": {
        "colab": {
          "base_uri": "https://localhost:8080/",
          "height": 110
        },
        "id": "1veSoRkEjQmu",
        "outputId": "9f23aefe-01c1-4af3-f230-81eaa0e03d20"
      },
      "source": [
        "#Objective 8.\n",
        "#Examine the model's coefficients by using its \".coef_\" method.\n",
        "\n",
        "pd.DataFrame(zip(X.columns, np.transpose(logistic.coef_)))"
      ],
      "execution_count": 12,
      "outputs": [
        {
          "output_type": "execute_result",
          "data": {
            "text/html": [
              "<div>\n",
              "<style scoped>\n",
              "    .dataframe tbody tr th:only-of-type {\n",
              "        vertical-align: middle;\n",
              "    }\n",
              "\n",
              "    .dataframe tbody tr th {\n",
              "        vertical-align: top;\n",
              "    }\n",
              "\n",
              "    .dataframe thead th {\n",
              "        text-align: right;\n",
              "    }\n",
              "</style>\n",
              "<table border=\"1\" class=\"dataframe\">\n",
              "  <thead>\n",
              "    <tr style=\"text-align: right;\">\n",
              "      <th></th>\n",
              "      <th>0</th>\n",
              "      <th>1</th>\n",
              "    </tr>\n",
              "  </thead>\n",
              "  <tbody>\n",
              "    <tr>\n",
              "      <th>0</th>\n",
              "      <td>Close_15_Rolling</td>\n",
              "      <td>[-0.03597887062954358]</td>\n",
              "    </tr>\n",
              "    <tr>\n",
              "      <th>1</th>\n",
              "      <td>Open_1_Change</td>\n",
              "      <td>[0.166878819873887]</td>\n",
              "    </tr>\n",
              "  </tbody>\n",
              "</table>\n",
              "</div>"
            ],
            "text/plain": [
              "                  0                       1\n",
              "0  Close_15_Rolling  [-0.03597887062954358]\n",
              "1     Open_1_Change     [0.166878819873887]"
            ]
          },
          "metadata": {},
          "execution_count": 12
        }
      ]
    },
    {
      "cell_type": "code",
      "metadata": {
        "id": "HxF1k9swjQmv"
      },
      "source": [
        "#Objective 9.\n",
        "#Use the model's \".predict_proba(*args)\" and \".predict(*args)\" methods to generate predictions over the test set.\n",
        "\n",
        "probabilities = logistic.predict_proba(X_test)\n",
        "predictions = logistic.predict(X_test)\n",
        "\n"
      ],
      "execution_count": 13,
      "outputs": []
    },
    {
      "cell_type": "code",
      "metadata": {
        "colab": {
          "base_uri": "https://localhost:8080/"
        },
        "id": "5eQHc8HEjQmv",
        "outputId": "14ee39bb-4455-49a8-a0dc-f56f871dfeb5"
      },
      "source": [
        "#Objective 10.\n",
        "#Use the function \"metrics.confusion_matrix(*args)\" to create a confusion matrix comparing the predicted and true\n",
        "#classification labels over the test set.\n",
        "\n",
        "metrics.confusion_matrix(y_test, predictions)"
      ],
      "execution_count": 14,
      "outputs": [
        {
          "output_type": "execute_result",
          "data": {
            "text/plain": [
              "array([[68,  6],\n",
              "       [94,  3]])"
            ]
          },
          "metadata": {},
          "execution_count": 14
        }
      ]
    },
    {
      "cell_type": "code",
      "metadata": {
        "colab": {
          "base_uri": "https://localhost:8080/"
        },
        "id": "9gV6K32TjQmw",
        "outputId": "8d8f88a9-9eb3-45f4-9ef7-772a1e97995a"
      },
      "source": [
        "#Objective 11.\n",
        "#Calculate the model's accuracy on the test set using its \".score(*args)\" method.\n",
        "\n",
        "logistic.score(X_test, y_test)"
      ],
      "execution_count": 15,
      "outputs": [
        {
          "output_type": "execute_result",
          "data": {
            "text/plain": [
              "0.4152046783625731"
            ]
          },
          "metadata": {},
          "execution_count": 15
        }
      ]
    },
    {
      "cell_type": "code",
      "metadata": {
        "colab": {
          "base_uri": "https://localhost:8080/"
        },
        "id": "YzUq1E_ojQmw",
        "outputId": "6f148cd8-c076-4d1f-f74d-c0e03f4fad85"
      },
      "source": [
        "#Objective 12.\n",
        "#Use five-fold cross validation to cross-check the accuracy of the model over different held-out test sets.  This\n",
        "#is where you should use the function \"cross_val_score(*args)\".\n",
        "\n",
        "cross_val = cross_val_score(LogisticRegression() ,X_test, y_test)\n",
        "cross_val"
      ],
      "execution_count": 16,
      "outputs": [
        {
          "output_type": "execute_result",
          "data": {
            "text/plain": [
              "array([0.57142857, 0.55882353, 0.55882353, 0.44117647, 0.47058824])"
            ]
          },
          "metadata": {},
          "execution_count": 16
        }
      ]
    },
    {
      "cell_type": "code",
      "metadata": {
        "id": "LtCN_2ccjQmx"
      },
      "source": [
        ""
      ],
      "execution_count": 16,
      "outputs": []
    }
  ]
}